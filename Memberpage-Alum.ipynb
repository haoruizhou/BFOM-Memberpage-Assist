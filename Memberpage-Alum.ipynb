{
 "cells": [
  {
   "cell_type": "code",
   "execution_count": 20,
   "outputs": [
    {
     "name": "stdout",
     "output_type": "stream",
     "text": [
      "              name             fileName  \\\n",
      "0  Bill Tamburelli  BillTamburelli.jpeg   \n",
      "\n",
      "                             accessibleText  parts  quote   position  \\\n",
      "0  photo of Bill Tamburelli with BFOM stole  Tenor  quote  President   \n",
      "\n",
      "  positionYear memberYear                           education      occupation  \n",
      "0    2020-2022  2018-2022  History of Public Policies and Law  Policy Analyst  \n"
     ]
    }
   ],
   "source": [
    "import pandas as pd\n",
    "memberList = pd.read_csv('memberListAlum.csv', sep=';')\n",
    "memberList = memberList.fillna('')\n",
    "print(memberList)"
   ],
   "metadata": {
    "collapsed": false,
    "pycharm": {
     "name": "#%%\n"
    }
   }
  },
  {
   "cell_type": "code",
   "execution_count": 21,
   "outputs": [],
   "source": [
    "# define\n",
    "name = \"\"\n",
    "# this is the text shown if image doesn't load\n",
    "# example: Hally Zhou\n",
    "# case NOT sensitive\n",
    "fileName = \"\"\n",
    "# this is the file name of the member's photo\n",
    "# example: HallyZhou.jpg\n",
    "# case SENSITIVE, practice\n",
    "accessibleText = \"\"\n",
    "# this text is for people who have impaired vision, when they use screen reader, this is the text they will hear\n",
    "# example: Vice President Hally Zhou\n",
    "# case NOT sensitive\n",
    "parts = \"\"\n",
    "# example: Bass\n",
    "# case NOT sensitive\n",
    "quote = \"\"\n",
    "# example: \"some quote\"\n",
    "# case NOT sensitive\n",
    "position = \"\"\n",
    "# example = \"Vice President\"\n",
    "# highest position held in BFOM\n",
    "# case NOT sensitive\n",
    "positionYear = \"\"\n",
    "# example = \"2020-2021\"\n",
    "# term of the highest position\n",
    "memberYear = \"\"\n",
    "# example = \"2017-2021\"\n",
    "# term of membership\n",
    "education = \"\"\n",
    "# example: Ph.D. in Physics\n",
    "# case SENSITIVE\n",
    "occupation = \"\"\n",
    "# example: POTUS\n",
    "# case SENSITIVE\n",
    "\n",
    "oneMember = \"\"\n",
    "fourMember = \"\"\n",
    "nameHeader = \"\"\n",
    "# a string of 4 or less names that shows who's included in this code block\n",
    "\n",
    "output = \"\"\n"
   ],
   "metadata": {
    "collapsed": false,
    "pycharm": {
     "name": "#%%\n"
    }
   }
  },
  {
   "cell_type": "code",
   "execution_count": 22,
   "metadata": {
    "collapsed": true,
    "pycharm": {
     "name": "#%%\n"
    }
   },
   "outputs": [],
   "source": [
    "def oneMember(name, fileName, accessibleText, parts, quote, position, positionYear, memberYear, education, occupation):\n",
    "\n",
    "    position = position + \" \" + str(positionYear) + \", Member \" + str(memberYear)\n",
    "\n",
    "    temp = \"\"\"\n",
    "                <!-- NEW ALUM MEMBER HERE -->\n",
    "\n",
    "                <div class=\"col-md-3 col-sm-3\" style=\"margin-bottom:15px\">\n",
    "                    <div class=\"team-member\">\n",
    "                        <div class=\"team-img\">\n",
    "                            <img src=\"img/pastMembers/{fileName}\" id = \"{name}\" alt=\"{accessibleText}\" class=\"img-responsive\">\n",
    "                        </div>\n",
    "                        <div class=\"team-hover\">\n",
    "                            <div class=\"desk\">\n",
    "                                <h4>{parts}</h4>\n",
    "                                <p>{quote}</p>\n",
    "                            </div>\n",
    "                        </div>\n",
    "                    </div>\n",
    "                    <div class=\"team-title\">\n",
    "                        <h4>{name}</h4>\n",
    "                        <h5>{position}</h5>\n",
    "                        <span>{education}</span>\n",
    "                        <span>{occupation}</span>\n",
    "                    </div>\n",
    "                </div>\n",
    "\n",
    "\"\"\".format(fileName = fileName, name = name, accessibleText = accessibleText, parts = parts, quote = quote,  position = position, education = education, occupation = occupation)\n",
    "    return temp\n",
    "\n",
    "def templateOutsideBracket(nameHeader, fourMember):\n",
    "    temp = \"\"\"\n",
    "                <!-- USE THIS TEMPLATE FOR EACH NEW ROW. REPLACE NAME/MAJOR/PARTS/POSITION/QUOTE PLACEHOLDER -->\n",
    "\n",
    "                <!-- NEW ROW EVERY 4 ALUM MEMBERS -->\n",
    "                <!-- LIST NAMES HERE FOR QUICK REFERENCE -->\n",
    "                <!-- {nameHeader} -->\n",
    "                <div class = \"row\" style = \"margin-top:50px;\">\n",
    "                    {memberInfo}\n",
    "                </div>\n",
    "\n",
    "    \"\"\".format(nameHeader = nameHeader, memberInfo = fourMember)\n",
    "\n",
    "    return temp"
   ]
  },
  {
   "cell_type": "code",
   "execution_count": 23,
   "outputs": [
    {
     "name": "stdout",
     "output_type": "stream",
     "text": [
      "Bill Tamburelli\n",
      "0\n"
     ]
    }
   ],
   "source": [
    "counter = 0\n",
    "\n",
    "for i in range (len(memberList.index)):\n",
    "    # name;fileName;accessibleText;parts;quote;position;positionYear;memberYear;education;occupation\n",
    "    counter += 1\n",
    "    print(memberList['name'].values[i])\n",
    "    name = memberList['name'].values[i]\n",
    "    nameHeader = str(nameHeader) + \" \" + str(name)\n",
    "    fileName = memberList['fileName'].values[i]\n",
    "    accessibleText = memberList['accessibleText'].values[i]\n",
    "    parts = memberList['parts'].values[i]\n",
    "    quote = memberList['quote'].values[i]\n",
    "    position = memberList['position'].values[i]\n",
    "    positionYear = memberList['positionYear'].values[i]\n",
    "    memberYear = memberList['memberYear'].values[i]\n",
    "    education = memberList['education'].values[i]\n",
    "    occupation = memberList['occupation'].values[i]\n",
    "\n",
    "    temp = oneMember(name, fileName, accessibleText, parts, quote, position, positionYear, memberYear, education, occupation)\n",
    "    fourMember = fourMember + temp\n",
    "\n",
    "    if counter == 4 or i == len(memberList.index)-1:\n",
    "        # 4 members is one row\n",
    "        temp = templateOutsideBracket(nameHeader, fourMember)\n",
    "        output = output + temp\n",
    "        counter = 0\n",
    "        fourMember = \"\"\n",
    "        nameHeader = \"\"\n",
    "\n",
    "    print(i)\n"
   ],
   "metadata": {
    "collapsed": false,
    "pycharm": {
     "name": "#%%\n"
    }
   }
  },
  {
   "cell_type": "code",
   "execution_count": 24,
   "outputs": [
    {
     "name": "stdout",
     "output_type": "stream",
     "text": [
      "\n",
      "                <!-- USE THIS TEMPLATE FOR EACH NEW ROW. REPLACE NAME/MAJOR/PARTS/POSITION/QUOTE PLACEHOLDER -->\n",
      "\n",
      "                <!-- NEW ROW EVERY 4 ALUM MEMBERS -->\n",
      "                <!-- LIST NAMES HERE FOR QUICK REFERENCE -->\n",
      "                <!--  Bill Tamburelli -->\n",
      "                <div class = \"row\" style = \"margin-top:50px;\">\n",
      "                    \n",
      "                <!-- NEW ALUM MEMBER HERE -->\n",
      "\n",
      "                <div class=\"col-md-3 col-sm-3\" style=\"margin-bottom:15px\">\n",
      "                    <div class=\"team-member\">\n",
      "                        <div class=\"team-img\">\n",
      "                            <img src=\"img/pastMembers/BillTamburelli.jpeg\" id = \"Bill Tamburelli\" alt=\"photo of Bill Tamburelli with BFOM stole\" class=\"img-responsive\">\n",
      "                        </div>\n",
      "                        <div class=\"team-hover\">\n",
      "                            <div class=\"desk\">\n",
      "                                <h4>Tenor</h4>\n",
      "                                <p>quote</p>\n",
      "                            </div>\n",
      "                        </div>\n",
      "                    </div>\n",
      "                    <div class=\"team-title\">\n",
      "                        <h4>Bill Tamburelli</h4>\n",
      "                        <h5>President 2020-2022, Member 2018-2022</h5>\n",
      "                        <span>History of Public Policies and Law</span>\n",
      "                        <span>Policy Analyst</span>\n",
      "                    </div>\n",
      "                </div>\n",
      "\n",
      "\n",
      "                </div>\n",
      "\n",
      "    \n"
     ]
    }
   ],
   "source": [
    "print(output)\n",
    "\n",
    "with open('outputAlum.txt', 'w') as f:\n",
    "    f.write(output)"
   ],
   "metadata": {
    "collapsed": false,
    "pycharm": {
     "name": "#%%\n"
    }
   }
  }
 ],
 "metadata": {
  "kernelspec": {
   "display_name": "Python 3",
   "language": "python",
   "name": "python3"
  },
  "language_info": {
   "codemirror_mode": {
    "name": "ipython",
    "version": 2
   },
   "file_extension": ".py",
   "mimetype": "text/x-python",
   "name": "python",
   "nbconvert_exporter": "python",
   "pygments_lexer": "ipython2",
   "version": "2.7.6"
  }
 },
 "nbformat": 4,
 "nbformat_minor": 0
}